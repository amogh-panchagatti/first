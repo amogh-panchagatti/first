{
  "cells": [
    {
      "cell_type": "markdown",
      "metadata": {
        "id": "view-in-github",
        "colab_type": "text"
      },
      "source": [
        "<a href=\"https://colab.research.google.com/github/amogh-panchagatti/first/blob/main/omp.ipynb\" target=\"_parent\"><img src=\"https://colab.research.google.com/assets/colab-badge.svg\" alt=\"Open In Colab\"/></a>"
      ]
    },
    {
      "cell_type": "code",
      "execution_count": 4,
      "metadata": {
        "id": "lgmX5j-4VDD_"
      },
      "outputs": [],
      "source": [
        "import numpy as np\n",
        "N=64\n",
        "N_cs=128\n",
        "T=14\n",
        "phi_min = -60*(np.pi/180) #Lower-bound of AoAs\n",
        "phi_max = 60*(np.pi/180) #Upper-bound of AoAs\n",
        "std_alpha = np.sqrt(0.5) \n",
        "noise = np.sqrt(0.5)\n",
        "W_real=np.random.normal(0,1,((N,T)))\n",
        "W_complex=np.random.normal(0,1,((N,T)))\n",
        "x=np.zeros((N_cs,1))\n",
        "W=W_real+1j*W_complex\n",
        "norm_W_colum=np.linalg.norm(W,axis=0)\n",
        "W=W/norm_W_colum\n",
        "\n",
        "A_BS, phi, A_BS_OS, phi_OS=func_codedesign_cont(N_cs,N_cs,phi_min,phi_max,N)\n",
        "SNR=np.linspace(-10,25,8)\n",
        "Pvec = 10**(SNR/10)\n",
        "MSE=np.zeros(8)\n",
        "SNR_index=0\n",
        "for P in Pvec:\n",
        "\n",
        "  sum=0\n",
        "  for  i in range(10000):\n",
        "    angle_vector=np.random.randint(1,N_cs,1)[0]\n",
        "    alpha=np.random.normal(0,std_alpha,1)[0]+1j*np.random.normal(0,std_alpha,1)[0]\n",
        "    v=np.random.normal(0,noise,1)[0]+1j*np.random.normal(0,noise,1)[0]\n",
        "    y=((P**0.5)*(np.matrix.conjugate(W).T)*alpha@A_BS[:,angle_vector])+v\n",
        "\n",
        "    A=(np.matrix.conjugate(W).T)@A_BS\n",
        "    norm_A_colum=np.linalg.norm(A,axis=0)\n",
        "    A=A/norm_A_colum\n",
        "    S,r=OMP(A,y,T,N_cs)\n",
        "    phi_hat=phi[S[0]]\n",
        "    phi_real=phi[angle_vector]\n",
        "    sum+=(phi_hat-phi_real)**2\n",
        "\n",
        "    \n",
        "\n",
        "\n",
        "  \n",
        "  MSE[SNR_index]=sum/10000\n",
        "  SNR_index+=1\n",
        "\n",
        "\n",
        "\n",
        "\n",
        "\n",
        "\n",
        "\n",
        "\n",
        "\n",
        "\n",
        "\n",
        "\n",
        "\n",
        "\n",
        "\n",
        "\n",
        "\n"
      ]
    },
    {
      "cell_type": "code",
      "execution_count": 2,
      "metadata": {
        "id": "81ML_Jxu7xhb"
      },
      "outputs": [],
      "source": [
        "def func_codedesign_cont(delta_inv,delta_inv_OS,phi_min,phi_max,N):\n",
        "    delta_theta = (phi_max-phi_min)/delta_inv;\n",
        "    phi = np.linspace(start=phi_min+delta_theta/2,stop=phi_max-delta_theta/2,num=delta_inv) \n",
        "    from0toN = np.float32(list(range(0, N)))\n",
        "    A_BS = np.zeros([N,delta_inv],dtype=np.complex64)\n",
        "    for i in range(delta_inv):\n",
        "        a_phi = np.exp(1j*np.pi*from0toN*np.sin(phi[i]))\n",
        "        A_BS[:,i] = np.transpose(a_phi)\n",
        "\n",
        "    delta_theta = (phi_max-phi_min)/delta_inv_OS\n",
        "    phi_OS = np.linspace(start=phi_min+delta_theta/2,stop=phi_max-delta_theta/2,num=delta_inv_OS)  \n",
        "    A_BS_OS = np.zeros([N,delta_inv_OS],dtype=np.complex64)\n",
        "    for i in range(delta_inv_OS):\n",
        "        a_phi = np.exp(1j*np.pi*from0toN*np.sin(phi_OS[i]))\n",
        "        A_BS_OS[:,i] = np.transpose(a_phi)\n",
        "        \n",
        "    return A_BS, phi, A_BS_OS, phi_OS   "
      ]
    },
    {
      "cell_type": "code",
      "execution_count": null,
      "metadata": {
        "id": "edlOuikR95Vp",
        "colab": {
          "base_uri": "https://localhost:8080/"
        },
        "outputId": "8c74ef4b-324d-4bb7-94bb-cbef12b39dc8"
      },
      "outputs": [
        {
          "output_type": "execute_result",
          "data": {
            "text/plain": [
              "1205"
            ]
          },
          "metadata": {},
          "execution_count": 11
        }
      ],
      "source": [
        "np.random.randint(1,N_cs,1)[0]"
      ]
    },
    {
      "cell_type": "code",
      "source": [
        "def OMP(A,b,M,N):\n",
        "  #initialization\n",
        "  r=b\n",
        "  \n",
        "  k=0\n",
        "  S=[]\n",
        "  A_s=np.zeros((M,1))\n",
        "  x=np.zeros((N,1))\n",
        "  S.append(np.argmax((np.abs(A.T@r))))\n",
        "   \n",
        "\n",
        "\n",
        "      \n",
        "    \n",
        "\n",
        "\n",
        "  return S,r"
      ],
      "metadata": {
        "id": "O0iWetvrAv0f"
      },
      "execution_count": 3,
      "outputs": []
    },
    {
      "cell_type": "code",
      "source": [
        "MSE"
      ],
      "metadata": {
        "colab": {
          "base_uri": "https://localhost:8080/"
        },
        "id": "qgqenPW9Ndyy",
        "outputId": "0fcc3c0d-79cf-4872-8a3c-9f858c82bec4"
      },
      "execution_count": null,
      "outputs": [
        {
          "output_type": "execute_result",
          "data": {
            "text/plain": [
              "array([0., 0., 0., 0., 0., 0., 0., 0.])"
            ]
          },
          "metadata": {},
          "execution_count": 40
        }
      ]
    },
    {
      "cell_type": "code",
      "source": [
        "MSE[0]=2"
      ],
      "metadata": {
        "id": "wJ4kSBpPOm44"
      },
      "execution_count": null,
      "outputs": []
    },
    {
      "cell_type": "code",
      "source": [
        "MSE"
      ],
      "metadata": {
        "colab": {
          "base_uri": "https://localhost:8080/"
        },
        "id": "yp_XMLEVOo4C",
        "outputId": "e7a3ec82-a5f6-4256-b2f5-541072aa026d"
      },
      "execution_count": null,
      "outputs": [
        {
          "output_type": "execute_result",
          "data": {
            "text/plain": [
              "array([2., 0., 0., 0., 0., 0., 0., 0.])"
            ]
          },
          "metadata": {},
          "execution_count": 42
        }
      ]
    },
    {
      "cell_type": "code",
      "source": [
        "MSE"
      ],
      "metadata": {
        "colab": {
          "base_uri": "https://localhost:8080/"
        },
        "id": "OCKgvoB2OpnQ",
        "outputId": "605cbd3a-bb5a-48b7-eb8e-8a990d2c82db"
      },
      "execution_count": null,
      "outputs": [
        {
          "output_type": "execute_result",
          "data": {
            "text/plain": [
              "array([0.36074565, 0.35854928, 0.35881896, 0.37546742, 0.35559124,\n",
              "       0.35011904, 0.35125183, 0.35720787])"
            ]
          },
          "metadata": {},
          "execution_count": 47
        }
      ]
    },
    {
      "cell_type": "code",
      "source": [
        "import matplotlib.pyplot as plt\n",
        "plt.plot(SNR,MSE/10)"
      ],
      "metadata": {
        "colab": {
          "base_uri": "https://localhost:8080/",
          "height": 282
        },
        "id": "fS1WL_eTP50d",
        "outputId": "08390def-3e4d-410c-848a-3abc8f6c0d00"
      },
      "execution_count": 5,
      "outputs": [
        {
          "output_type": "execute_result",
          "data": {
            "text/plain": [
              "[<matplotlib.lines.Line2D at 0x7f6020191ac0>]"
            ]
          },
          "metadata": {},
          "execution_count": 5
        },
        {
          "output_type": "display_data",
          "data": {
            "text/plain": [
              "<Figure size 432x288 with 1 Axes>"
            ],
            "image/png": "[encoded data removed]"
          },
          "metadata": {
            "needs_background": "light"
          }
        }
      ]
    },
    {
      "cell_type": "code",
      "source": [
        "\n",
        "print(Pvec)\n"
      ],
      "metadata": {
        "colab": {
          "base_uri": "https://localhost:8080/"
        },
        "id": "01Xi9JtZRY4G",
        "outputId": "dfe37656-3e9e-4110-a4e8-eb45afdbbbea"
      },
      "execution_count": null,
      "outputs": [
        {
          "output_type": "stream",
          "name": "stdout",
          "text": [
            "[1.00000000e-01 3.16227766e-01 1.00000000e+00 3.16227766e+00\n",
            " 1.00000000e+01 3.16227766e+01 1.00000000e+02 3.16227766e+02]\n"
          ]
        }
      ]
    },
    {
      "cell_type": "code",
      "source": [],
      "metadata": {
        "id": "hQRapaSngJsF"
      },
      "execution_count": null,
      "outputs": []
    }
  ],
  "metadata": {
    "colab": {
      "provenance": [],
      "authorship_tag": "ABX9TyPqwHcv8hnnisXvCMcWRQhE",
      "include_colab_link": true
    },
    "kernelspec": {
      "display_name": "Python 3",
      "name": "python3"
    },
    "language_info": {
      "name": "python"
    }
  },
  "nbformat": 4,
  "nbformat_minor": 0
}