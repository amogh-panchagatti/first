{
  "nbformat": 4,
  "nbformat_minor": 0,
  "metadata": {
    "colab": {
      "name": "Beam_steer.ipynb",
      "provenance": [],
      "collapsed_sections": [],
      "authorship_tag": "ABX9TyPtJQQpyxtem2M+WWhIPzuJ",
      "include_colab_link": true
    },
    "kernelspec": {
      "name": "python3",
      "display_name": "Python 3"
    },
    "language_info": {
      "name": "python"
    }
  },
  "cells": [
    {
      "cell_type": "markdown",
      "metadata": {
        "id": "view-in-github",
        "colab_type": "text"
      },
      "source": [
        "<a href=\"https://colab.research.google.com/github/amogh-panchagatti/first/blob/main/Beam_steer.ipynb\" target=\"_parent\"><img src=\"https://colab.research.google.com/assets/colab-badge.svg\" alt=\"Open In Colab\"/></a>"
      ]
    },
    {
      "cell_type": "code",
      "execution_count": 15,
      "metadata": {
        "colab": {
          "base_uri": "https://localhost:8080/",
          "height": 300
        },
        "id": "ZTTnoDbO6XA3",
        "outputId": "df559c44-2072-4b90-aac6-1ed17b4438af"
      },
      "outputs": [
        {
          "output_type": "stream",
          "name": "stdout",
          "text": [
            "69.0\n"
          ]
        },
        {
          "output_type": "execute_result",
          "data": {
            "text/plain": [
              "[<matplotlib.lines.Line2D at 0x7fb368b880d0>]"
            ]
          },
          "metadata": {},
          "execution_count": 15
        },
        {
          "output_type": "display_data",
          "data": {
            "text/plain": [
              "<Figure size 432x288 with 1 Axes>"
            ],
            "image/png": "[encoded data removed]"
          },
          "metadata": {
            "needs_background": "light"
          }
        }
      ],
      "source": [
        "import math\n",
        "import numpy as np\n",
        "import matplotlib.pyplot as plt\n",
        "\n",
        "class server:\n",
        "  def __init__(self,distance,angle):\n",
        "    self.distance=distance\n",
        "    self.angle=angle\n",
        "\n",
        "server1=server(3,60)\n",
        "server2=server(6,180)\n",
        "server3=server(10,270)\n",
        "Edge_sum=server1.distance+server2.distance+server3.distance\n",
        "\n",
        "f=9\n",
        "c=3*(10^8)\n",
        "wavelength=c/f\n",
        "pi=math.pi\n",
        "k=(2*pi)\n",
        "N=4\n",
        "\n",
        "tetha=np.linspace(1,360,num=360)\n",
        "phase_vector=np.linspace(1,360,num=360)\n",
        "spacing=np.linspace(0.5,0.6,3)\n",
        "edge_server_location=[server1,server2,server3]\n",
        "\n",
        "edge=np.zeros(360)\n",
        "\n",
        "for server in edge_server_location:\n",
        "  edge[server.angle-1]=server.distance/Edge_sum\n",
        "  edge[server.angle]=server.distance/Edge_sum\n",
        "  edge[server.angle+1]=server.distance/Edge_sum\n",
        "\n",
        "plt.plot(np.linspace(1,360,360),edge)\n",
        "phase=0\n",
        "\n",
        "array_factor=np.abs((np.sin(N*psi/2))/(N*np.sin(psi/2)))\n",
        "\n",
        "#plt.plot(np.linspace(1,360,360),array_factor)\n",
        "\n",
        "space_max=0;\n",
        "phase_max=0;\n",
        "d_max=0;\n",
        "for d in spacing:\n",
        "  max=0;\n",
        "  arg_max=0;\n",
        "  for phase in phase_vector:\n",
        "    psi=k*d*wavelength*np.cos(tetha*(pi)/180)+phase\n",
        "    array_factor=np.abs((np.sin(N*psi/2))/(N*np.sin(psi/2)))\n",
        "    dot=np.dot(array_factor,edge)\n",
        "    if dot>max:\n",
        "      arg_max=phase\n",
        "      max=dot\n",
        "  if max>space_max:\n",
        "    phase_max=arg_max\n",
        "    space_max=max\n",
        "    d_max=d\n",
        "    \n",
        "\n",
        "print(arg_max)\n",
        "psi=k*d_max*wavelength*np.cos(tetha*(pi)/180)+phase_max\n",
        "array_factor=np.abs((np.sin(N*psi/2))/(N*np.sin(psi/2)))\n",
        "plt.plot(np.linspace(1,360,360),array_factor)\n",
        "\n",
        "\n",
        "\n",
        "  \n",
        "  \n",
        "\n",
        "\n",
        "\n",
        "\n",
        "\n",
        "\n",
        "\n",
        "\n",
        "\n"
      ]
    },
    {
      "cell_type": "code",
      "source": [
        "len(array_factor)\n",
        "len(edge)"
      ],
      "metadata": {
        "colab": {
          "base_uri": "https://localhost:8080/"
        },
        "id": "5le71TqoDnvs",
        "outputId": "d5b3a029-4db7-48b2-eb53-f002aef52645"
      },
      "execution_count": 16,
      "outputs": [
        {
          "output_type": "execute_result",
          "data": {
            "text/plain": [
              "360"
            ]
          },
          "metadata": {},
          "execution_count": 16
        }
      ]
    },
    {
      "cell_type": "code",
      "source": [
        ""
      ],
      "metadata": {
        "id": "OxWesbKYL0Z-"
      },
      "execution_count": null,
      "outputs": []
    }
  ]
}